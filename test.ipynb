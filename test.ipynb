{
 "cells": [
  {
   "cell_type": "code",
   "execution_count": 8,
   "metadata": {},
   "outputs": [
    {
     "name": "stdout",
     "output_type": "stream",
     "text": [
      "共有 624 個 json 檔\n",
      "其中有 624 個檔案符合您的篩選條件，相關輸出以放置於 result 資料夾\n",
      "LR 準確率: 57.979 %\n",
      "LDA 準確率: 57.979 %\n",
      "KNN 準確率: 44.681 %\n",
      "RFC 準確率: 57.979 %\n",
      "SVM 準確率: 57.979 %\n"
     ]
    }
   ],
   "source": [
    "import tool\n",
    "tool.LoadData()\n",
    "tool.analysis_data('裁定,臺灣新北地方法院')\n",
    "tool.MachineLearning()"
   ]
  },
  {
   "cell_type": "code",
   "execution_count": null,
   "metadata": {},
   "outputs": [],
   "source": []
  }
 ],
 "metadata": {
  "kernelspec": {
   "display_name": "Python 3",
   "language": "python",
   "name": "python3"
  },
  "language_info": {
   "codemirror_mode": {
    "name": "ipython",
    "version": 3
   },
   "file_extension": ".py",
   "mimetype": "text/x-python",
   "name": "python",
   "nbconvert_exporter": "python",
   "pygments_lexer": "ipython3",
   "version": "3.10.6"
  },
  "orig_nbformat": 4
 },
 "nbformat": 4,
 "nbformat_minor": 2
}
